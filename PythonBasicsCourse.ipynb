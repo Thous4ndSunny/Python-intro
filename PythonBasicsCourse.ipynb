{
 "cells": [
  {
   "cell_type": "markdown",
   "metadata": {},
   "source": [
    "\n",
    "\n",
    "\n",
    "\n",
    "\n",
    "# Python tutorial \n",
    "\n",
    "## Contents:\n",
    "\n",
    " #### 1. Introduction\n",
    "\n",
    " #### 2. Data Types & Variables\n",
    "\n",
    " #### 3. Basic Operators and Input\n",
    "\n",
    " #### 4. Control flow tools\n",
    "\n",
    " #### 5. Functions, Objects and Classes\n",
    " \n",
    " #### 6. Libraries\n",
    "\n",
    "\n",
    "\n",
    "\n",
    "\n",
    "\n",
    "![Python logo](https://sdtimes.com/wp-content/uploads/2018/12/python-logo-master-v3-TM-flattened-490x166.png)\n",
    "\n"
   ]
  },
  {
   "cell_type": "markdown",
   "metadata": {},
   "source": [
    "## 1. Introduction\n",
    "\n",
    "\n",
    "\n",
    "Python is a high level programing language. It is an interpreter language that promotes a simple and concise programming style.\n",
    "In comparison to other popular programing languages (C++, Java, C#, Fortran, C) it is quite easy to pick up and use.\n",
    "\n",
    "### Why python and where can i use it?\n",
    "\n",
    "Python's greatest advantage lies in the enormous amount of already built in libraries that can be used by everyone.\n",
    "This makes Python very versitile in terms of applications.\n",
    "Python can be used for a large variety of tasks from automating excel, Data analysis, Data visualisation, Web Development, Machine Learning etc.\n",
    "\n",
    "### Snakes, spiders and planets!?\n",
    "\n",
    "**Anaconda** is **not** a **programing language** but a package that contains python in combination with multiple python libraries (Numpy, Pandas, Keras..) . It also contains few different integrated development environments (IDE's) that can be used for programing. The IDE (Spyder, Jupyter, VS, PyCharm, Sublime etc.) choice is always up to personal preference of the user.\n",
    "\n",
    "\n",
    "### What is the aim of this tutorial?\n",
    "\n",
    "The main objective of this tutorial is to provide basics of python programing syntax and functionality. Hopefully this tutorial should provide enough \"equipment\" in terms of knowledge for one to be able to understand and implement multiple modules and libraies by themselves.\n",
    "\n"
   ]
  },
  {
   "cell_type": "code",
   "execution_count": null,
   "metadata": {},
   "outputs": [],
   "source": []
  },
  {
   "cell_type": "markdown",
   "metadata": {},
   "source": [
    "## 2. Data Types & Variables\n",
    "\n",
    "### ***Basic Data Types***\n",
    "\n",
    "#### There are 4 main data types in python:\n",
    "\n",
    "  1. **INTEGER** \n",
    "   - Any **whole number** positive,negative or zero. **example:** ```1, 10000, 47, 52, -23 etc...```\n",
    "   - **python syntax**: ```int```\n",
    "  2. **STRING**\n",
    "   - Anything embedd in the quotations (can be both double or single quotations). **example:** ```'OMV', \"1492\", '25/5', \"Hello World\", \"§$%&$&\" etc...```\n",
    "   - **python syntax**: ```str```\n",
    "  3. **BOOLEAN**\n",
    "   - logical statements True & False. **example:** ```True, False```\n",
    "   - **python syntax**: ```bool```\n",
    "  4. **FLOAT**\n",
    "   - Any decimal number. **example:** ```3.41, 6.9999999, -8.321321321 etc...```\n",
    "   - **python syntax**: ```float```\n"
   ]
  },
  {
   "cell_type": "code",
   "execution_count": null,
   "metadata": {},
   "outputs": [],
   "source": []
  },
  {
   "cell_type": "markdown",
   "metadata": {},
   "source": [
    "#### Excercise 1.\n",
    "**Run the code bellow and answer the questions about the variable types.**<br>\n",
    "**Hint**: Answers should be in a from of: ```int```, ```str```, ```bool``` or ```float```\n",
    "\n"
   ]
  },
  {
   "cell_type": "code",
   "execution_count": null,
   "metadata": {},
   "outputs": [],
   "source": [
    "##Run this code and answer the questions\n",
    "\n",
    "questions = [1, 3.14, \"Dog\", False,  23, \"OMV\", \"\"\"'34.55'\"\"\", 245.67, \"\"\"'True'\"\"\"]\n",
    "count = 0\n",
    "for i in range(0,len(questions)):\n",
    "    num = questions[i]\n",
    "    answer = input(\"What Data Type is: \" + str(num)+ \" ? \")\n",
    "    answer = \"\"\"<class '\"\"\"+ str(answer) +\"\"\"'>\"\"\"\n",
    "    if answer == str(type(num)):\n",
    "        count+=1\n",
    "        print(\"Correct!\")\n",
    "    else:\n",
    "        print(\"Not Correct!\")\n",
    "total = count*10\n",
    "print(\"You answered \", total,\"% of the questions correctly!\")"
   ]
  },
  {
   "cell_type": "markdown",
   "metadata": {},
   "source": [
    "### ***Variables***\n",
    "Like in math in or any other programming language in python we use variables to store values.<br>\n",
    "Assigning a value to the variable is called declaration of a variable.\n",
    "\n",
    "In python it is very easy to declare a variable.\n",
    "\n",
    "**Example:**\n",
    "\n",
    "```python\n",
    "x = 10\n",
    "poro = 0.34\n",
    "name = \"Mislav\"\n",
    "logic = False```\n",
    "\n",
    "As already mentioned declaring a variable is easy, but the name of the variable **can't start** with:\n",
    " 1. Numbers: ```1x = 100```\n",
    " 2. Special symbols: ```%x = 100``` ```/x = 100``` ```\"x = 100``` etc...\n",
    " 3. Reserved names: ```True = 100``` ```int = 100``` ```if = 100``` etc...\n",
    " \n",
    "**Example of good variable names:**\n",
    "\n",
    "```python\n",
    "personName = \"Bob\"\n",
    "person_age = 25\n",
    "person2 = \"Hans\"```\n",
    "\n",
    "\n"
   ]
  },
  {
   "cell_type": "code",
   "execution_count": null,
   "metadata": {},
   "outputs": [],
   "source": [
    "##Variable excercise: Run the program\n",
    "x = 10\n",
    "poro = 0.34\n",
    "name = \"Mislav\"\n",
    "logic = False\n",
    "two = 2\n",
    "print(x)\n",
    "print(\"Porosity is: \", poro)\n",
    "print(name,logic)\n",
    "#print(name*x)\n",
    "print(poro*x*10, \"%\")\n",
    "#print(two**x)\n",
    "\n",
    "#try your own variables below:\n",
    "\n"
   ]
  },
  {
   "cell_type": "code",
   "execution_count": null,
   "metadata": {},
   "outputs": [],
   "source": []
  },
  {
   "cell_type": "markdown",
   "metadata": {},
   "source": [
    "### ***Lists*** ###\n",
    "\n",
    "A list is also a data type in python ( like int,float,bool,str). List represents the collection of elements (each element is called an item). It can hold infinite amount of elements of different data types.\n",
    "**python syntax**\n",
    "```python\n",
    "thisList = [1,3,3.14, True, \"OMV\"]\n",
    "\n",
    "list2 = [0,1,2,3,4,5]\n",
    "```\n",
    "![ListPython](https://fedingo.com/wp-content/uploads/2021/04/sort-python-list.png)"
   ]
  },
  {
   "cell_type": "code",
   "execution_count": null,
   "metadata": {},
   "outputs": [],
   "source": [
    "thisList = [1,3,3.14, True, \"OMV\"]\n",
    "print(thisList)\n",
    "#print(thisList[3])\n",
    "#thisList.append(\"New item in a list\")\n",
    "#print(thisList)"
   ]
  },
  {
   "cell_type": "markdown",
   "metadata": {},
   "source": [
    "New items can be added to the end of the list by using ```.append()``` or removed by using ```.remove()``` \n"
   ]
  },
  {
   "cell_type": "code",
   "execution_count": null,
   "metadata": {},
   "outputs": [],
   "source": [
    "thisList.append(12)\n",
    "thisList.remove(\"OMV\")\n"
   ]
  },
  {
   "cell_type": "code",
   "execution_count": null,
   "metadata": {},
   "outputs": [],
   "source": [
    "print(thisList)"
   ]
  },
  {
   "cell_type": "markdown",
   "metadata": {},
   "source": [
    "## 3. Basic Operators and Input\n",
    "\n",
    "### ***Operators***\n",
    "\n",
    "Operators in python allow us to do calculations.<br>\n",
    "**Important Operators are**:\n",
    " 1. **Addition**\n",
    "  - **python syntax:** ```+```\n",
    "  \n",
    "       - performs addition\n",
    " 2. **Subtraction**\n",
    "  - **python syntax:** ```-```\n",
    "  \n",
    "       - performs subtraction\n",
    " 3. **Division**       \n",
    "  - **python syntax:** ```/```\n",
    "  \n",
    "       - performs division\n",
    " 4. **Multiplication**\n",
    "  - **python syntax:** ```*```\n",
    "  \n",
    "       - performs multiplication\n",
    " 5. **Exponent**\n",
    "  - **python syntax:** ```**```\n",
    "  \n",
    "       - **example:** ```2**2 = 4 ; 2**3 = 8; 2**10 = 1024```\n",
    " 5. **Integer Division**\n",
    "  - **python syntax:** ```//```\n",
    "  \n",
    "       - **example:** ``` 25 / 10 = 2.5 but 25 // 10 = 2```  \n",
    " 6. **Modulus Operator**\n",
    "  - **python syntax:** ```%```\n",
    "  \n",
    "       - **example:** ``` 25 / 10 = 2.5;25 // 10 = 2; but 25 % 10 = 5``` \n",
    "       \n",
    "       \n",
    "       \n",
    "       \n",
    "\n",
    "**Excercise 2.**\n",
    "Write the program that calculates the surface of a rectangle based on the values of two variables ```length``` & ```width```.<br>\n",
    "Print the solution to the screen.\n",
    "\n",
    "\n",
    "\n",
    "\n",
    "\n",
    "\n"
   ]
  },
  {
   "cell_type": "code",
   "execution_count": null,
   "metadata": {},
   "outputs": [],
   "source": [
    "##Code the Excercise 2. HERE\n",
    "\n",
    "\n"
   ]
  },
  {
   "cell_type": "markdown",
   "metadata": {},
   "source": [
    "### ***Input***\n",
    "\n",
    "User input to the console can be taken by the use of ```input()``` function.\n",
    "\n",
    "**Example:**\n",
    "```python\n",
    "length = input() #input of length\n",
    "width = input()  #input of width\n",
    "\n",
    "surface = length * width #surface calculation\n",
    "print(\"Surface of the rectangle with the lenght of \", length, \" and width of \", width, \" is \", surface) #output to the screen\n",
    "\n",
    "```"
   ]
  },
  {
   "cell_type": "code",
   "execution_count": null,
   "metadata": {},
   "outputs": [],
   "source": [
    "#Run and observe what will happen\n",
    "length = input()\n",
    "width = input()\n",
    "\n",
    "surface = length * width\n",
    "print(\"Surface of the rectangle with the lenght of \", length, \" and width of \", width, \" is \", surface)"
   ]
  },
  {
   "cell_type": "code",
   "execution_count": null,
   "metadata": {},
   "outputs": [],
   "source": [
    "x = int(input())\n",
    "\n",
    "\n"
   ]
  },
  {
   "cell_type": "code",
   "execution_count": null,
   "metadata": {},
   "outputs": [],
   "source": []
  },
  {
   "cell_type": "markdown",
   "metadata": {},
   "source": [
    "Additionally ```input()``` can be used to show print a message to the screen when for example there are certain input insturctions needed.\n",
    "\n",
    "**Example:**\n",
    "```python\n",
    "length = int(input(\"Input the length of the rectangle: \")) #input of length\n",
    "width = int(input(\"Input the length of the rectangle: \"))  #input of width\n",
    "\n",
    "surface = length * width #surface calculation\n",
    "print(\"Surface of the rectangle with the lenght of \", length, \" and width of \", width, \" is \", surface) #output to the screen\n",
    "```"
   ]
  },
  {
   "cell_type": "code",
   "execution_count": null,
   "metadata": {},
   "outputs": [],
   "source": [
    "length = int(input(\"Input the length of the rectangle: \")) #input of length\n",
    "width = int(input(\"Input the width of the rectangle: \"))  #input of width\n",
    "\n",
    "surface = length * width #surface calculation\n",
    "print(\"Surface of the rectangle with the length of \", length, \" and width of \", width, \" is \", surface) #output to the screen"
   ]
  },
  {
   "cell_type": "markdown",
   "metadata": {},
   "source": [
    "## 4. Control flow tools\n",
    "\n",
    "Control flow refers to the order in which the code executes. The Control flow is regulated with the use of conditional statements, loops, exeptions, and function calls.\n",
    "\n",
    "For now we will be focused just on **conditional statements & loops**\n",
    "\n",
    "But before we start with the statements we should know **Comparison Operators:**\n",
    "\n",
    " 1. **Less than**\n",
    "    - **python syntax:** ```<```\n",
    "    - **Example:** ```4 < 5``` (**returns:** ```True```); ```4 < 3``` (**returns:** ```False```)\n",
    " 2. **Greater than**\n",
    "    - **python syntax:** ```>```\n",
    "    - **Example:** ```4 > 5``` (**returns:** ```False```); ```4 > 3``` (**returns:** ```True```)\n",
    " 2. **Equal to**\n",
    "    - **python syntax:** ```==```\n",
    "    - **Example:** ```4 == 4``` (**returns:** ```True```); ```4 == 3``` (**returns:** ```False```)\n",
    " 4. **Not equal**\n",
    "    - **python syntax:** ```!=```\n",
    "    - **Example:** ```4 != 5``` (**returns:** ```True```); ```4 != 4``` (**returns:** ```False```)\n",
    " 5. **Greater or equal than**\n",
    "    - **python syntax:** ```>=```\n",
    "    - **Example:** ```4 >= 5``` (**returns:** ```False```); ```4 >= 3``` (**returns:** ```True```)\n",
    " 6. **Less or equal than**\n",
    "    - **python syntax:** ```<=```\n",
    "    - **Example:** ```4 <= 5``` (**returns:** ```True```); ```4 <= 3``` (**returns:** ```False```)"
   ]
  },
  {
   "cell_type": "code",
   "execution_count": null,
   "metadata": {},
   "outputs": [],
   "source": [
    "\n"
   ]
  },
  {
   "cell_type": "markdown",
   "metadata": {},
   "source": [
    "### ***If, Elif, Else***\n",
    "\n",
    "Conditional statements are allowing implementation of decisions in the program.<br>\n",
    "Those decisions are made based on conditions imposed by the comparison operators.\n",
    "\n",
    "**If statement example:*\n",
    "\n",
    "```python\n",
    "    if our condition: #if the condition is true\n",
    "        do something\n",
    "```\n",
    "The example show the basic structure of an if statement.\n",
    "The the important things to remember are:\n",
    "\n",
    " 1. If statement always starts with and ```if```\n",
    " 2. This is followed by the condition that we specify (x < y, x == 10)\n",
    " 3. The condition is followed by :\n",
    " 4. Next line **always** stars with indentation (Tab button)\n",
    " 5. Everything that is not indented won't be included in the ```if``` statement\n",
    " \n",
    "**Example:**\n",
    "```python\n",
    "    x = int(input(\"Pick a number: \"))\n",
    "    if x != 4:\n",
    "        print(x,\" is not equal to 4\")\n",
    "\n",
    "```\n",
    "\n"
   ]
  },
  {
   "cell_type": "code",
   "execution_count": null,
   "metadata": {},
   "outputs": [],
   "source": [
    "#Run the program\n",
    "x = int(input(\"Pick a number: \"))\n",
    "if x == 4:\n",
    "    print(x,\" equal to 4\")\n",
    "elif x == 3:\n",
    "    print(\"higher\")\n",
    "elif x > 4:\n",
    "    print(\"lower\")\n",
    "else:\n",
    "    print(\"hi\")"
   ]
  },
  {
   "cell_type": "markdown",
   "metadata": {},
   "source": [
    "In addition to the ```if``` statements, two additional statements are used.\n",
    "Those statements are ```elif``` and ```else```\n",
    "\n",
    "While ```elif``` is used to make statements for multiple scenarios ```else``` is used to cover every scenario that is not covered by the ```if``` statement."
   ]
  },
  {
   "cell_type": "markdown",
   "metadata": {},
   "source": [
    "### ***For Loop*** ###\n",
    "\n",
    "**Python syntax:**\n",
    "\n",
    "```python\n",
    " for x in range(start, stop, step):\n",
    "    print(x)\n",
    "```\n",
    "Every For loop starts with ```for```, which is followed by the variable that will control the iterations( this variable can be of any name). After the variable we define a ```in range```, range must have a **start** and **stop**. It is also possible to define a step. **If step is not defined it has a value of 1 by default**. After the range has been defined it is followed by colon ```:```. As already seen with if statement, everything what we want to be executed by for loop needs to be ```indented```.\n",
    "\n",
    "**Example:**\n",
    "\n",
    "```python\n",
    "for x in range(0,10):\n",
    "    print(x)\n",
    "```\n",
    "![forrloop](https://intellipaat.com/mediaFiles/2019/02/python16.jpg)"
   ]
  },
  {
   "cell_type": "code",
   "execution_count": null,
   "metadata": {},
   "outputs": [],
   "source": []
  },
  {
   "cell_type": "code",
   "execution_count": null,
   "metadata": {},
   "outputs": [],
   "source": []
  },
  {
   "cell_type": "markdown",
   "metadata": {},
   "source": [
    "### While Loop\n",
    "\n",
    "**Python syntax:**\n",
    "\n",
    "```python\n",
    "while condition == True:\n",
    "    do something\n",
    "    break\n",
    "```\n",
    "\n",
    "The ```while``` loop is a loop that will run until the condition is ```True``` . It checks if the conditions is ```True``` after every iteration until the condition becomes ```False``` or the keyword ```break``` appears somewhere iniside the loop.\n",
    "\n"
   ]
  },
  {
   "cell_type": "markdown",
   "metadata": {},
   "source": [
    "![Pythonlogo](https://ecomputernotes.com/images/Flowchart-of-while-Loop.png)"
   ]
  },
  {
   "cell_type": "code",
   "execution_count": null,
   "metadata": {},
   "outputs": [],
   "source": [
    "#while example 1.\n",
    "\n",
    "variable = True\n",
    "while variable:\n",
    "    x = input(\"Type your name: \")\n",
    "    if x == \"END\":\n",
    "        variable = False\n",
    "    \n",
    "    \n",
    "\n"
   ]
  },
  {
   "cell_type": "code",
   "execution_count": null,
   "metadata": {},
   "outputs": [],
   "source": [
    "#while example 2.\n",
    "while True:\n",
    "    x = input(\"Type your name: \")\n",
    "    if x == \"END\":\n",
    "        break"
   ]
  },
  {
   "cell_type": "markdown",
   "metadata": {},
   "source": [
    "**Excercise 3.**\n",
    "\n",
    "Write a program that will calculate the area of a rectangle and print the result,also if the rectangle is also a square it should say \"Square\". The program should allow for 5 inputs of both ```length``` & ```width```."
   ]
  },
  {
   "cell_type": "code",
   "execution_count": null,
   "metadata": {},
   "outputs": [],
   "source": [
    "#Solve Excercise 3. here\n",
    "\n",
    "\n"
   ]
  },
  {
   "cell_type": "markdown",
   "metadata": {},
   "source": [
    "**Solution**\n",
    "```python\n",
    "for i in range(0,4):\n",
    "    l = int(input(\"Enter length: \"))\n",
    "    h = int(input(\"Enter width: \"))\n",
    "    if l == h:\n",
    "        print(\"Area is: \", l*h, \" and it is a Square\")\n",
    "    else:\n",
    "        print(\"Area is: \", l*h )\n",
    "```"
   ]
  },
  {
   "cell_type": "markdown",
   "metadata": {},
   "source": [
    "## 5. Functions, Objects and Classes\n",
    "\n",
    "### ***Functions*** ###\n",
    "\n",
    "Similar to mathematics, functions in python take an input and return an output. The difference between functions in mathematics \n",
    "and programing is that functions in programing don't necessary require and input and don't have to give an output.\n",
    "Functions are mainly used when there is a repetitive task, that will occur several times.\n",
    "\n",
    "**Function example:**\n",
    "\n",
    "```python\n",
    "def recArea(l,w): #function that calculates the area of an rectangle\n",
    "    return l*w\n",
    "print(recArea(5,4)) #printing the function result for given arguments 5&4\n",
    "```\n",
    "#### Defining the function\n",
    "\n",
    "Definiton of a function starts with the keyword ```def``` followed by the **function name**(we choose the name, in the example above function name is ```recArea```). In the closed brackets after the function name we define function **parameters**(in the example ```l``` and ```w```. Parameters are the \"input\" of the function. We end the function definition with a colon ```:```.\n",
    "Any operation that we want our function to do must be **indented**. ```return``` keyword returns the output for of the given task, or operation.\n",
    "\n",
    "#### Calling the function\n",
    "\n",
    "To call a function we simply need to type the function and pass the **arguments** (inside the brackets). This will result in a output of a function for the given **arguments**.\n",
    "\n",
    "Run the code below\n",
    "\n"
   ]
  },
  {
   "cell_type": "code",
   "execution_count": null,
   "metadata": {},
   "outputs": [],
   "source": [
    "#function example\n",
    "def recArea(l,w):\n",
    "    return l*w\n",
    "\n",
    "x = int(input(\"Set length: \"))\n",
    "y = int(input(\"Set width: \"))\n",
    "\n",
    "print(\"The area is: \", recArea(x,y))\n"
   ]
  },
  {
   "cell_type": "markdown",
   "metadata": {},
   "source": [
    "**Excercise 4.**\n",
    "Write a function that will convert degrees Farenheit to degrees Celsius(C= (F-32)/1.8) and return the result. Then write a program that will ask the user to input degrees Farenheit and convert it until the user specifies it to stop by typing \"Stop\". Hint: while loop"
   ]
  },
  {
   "cell_type": "code",
   "execution_count": null,
   "metadata": {},
   "outputs": [],
   "source": [
    "\n",
    "        "
   ]
  },
  {
   "cell_type": "markdown",
   "metadata": {},
   "source": [
    "**Solution**\n"
   ]
  },
  {
   "cell_type": "code",
   "execution_count": 6,
   "metadata": {},
   "outputs": [
    {
     "name": "stdout",
     "output_type": "stream",
     "text": [
      "Enter °F: 21\n",
      "21.0  °F is equal to  -6.11  °C, if you want to stop write Stop\n",
      "Enter °F: 60\n",
      "60.0  °F is equal to  15.56  °C, if you want to stop write Stop\n",
      "Enter °F: 90\n",
      "90.0  °F is equal to  32.22  °C, if you want to stop write Stop\n",
      "Enter °F: 100\n",
      "100.0  °F is equal to  37.78  °C, if you want to stop write Stop\n",
      "Enter °F: Stop\n"
     ]
    }
   ],
   "source": [
    "def FtoC(F):\n",
    "    C = (F - 32)/ 1.8\n",
    "    return C\n",
    "while True:\n",
    "    degF = input(\"Enter °F: \")\n",
    "    if degF == \"Stop\":\n",
    "        break\n",
    "    else:\n",
    "        degF = float(degF)\n",
    "        print(degF,\" °F is equal to \", round(FtoC(degF),2), \" °C, if you want to stop write Stop\")"
   ]
  },
  {
   "cell_type": "markdown",
   "metadata": {},
   "source": [
    "#### Objects\n",
    "\n",
    "By definition almost everything in python is an **Object**. In the beginning we talked about **Data Types**, whenever we assign a certian data type value to the variable we are actually creating an object of that data type. Any variable or value in python can be inspected with ```type()```  function. \n"
   ]
  },
  {
   "cell_type": "code",
   "execution_count": null,
   "metadata": {},
   "outputs": [],
   "source": [
    "print(type(\"OMV\"))\n"
   ]
  },
  {
   "cell_type": "code",
   "execution_count": null,
   "metadata": {},
   "outputs": [],
   "source": [
    "print(type(3.141))\n"
   ]
  },
  {
   "cell_type": "code",
   "execution_count": null,
   "metadata": {},
   "outputs": [],
   "source": [
    "print(type(True))\n"
   ]
  },
  {
   "cell_type": "code",
   "execution_count": null,
   "metadata": {},
   "outputs": [],
   "source": [
    "print(type(100))"
   ]
  },
  {
   "cell_type": "code",
   "execution_count": null,
   "metadata": {},
   "outputs": [],
   "source": [
    "print(type([3,4,\"OMV\", False]))"
   ]
  },
  {
   "cell_type": "markdown",
   "metadata": {},
   "source": [
    "As you can see the return values of the ```type()``` function show us which data type are the arguments that we passed to the function. But to be more specific we say that those arguments belong to the specific class ( for example \"OMV\" belongs to the ```class 'str'```).\n",
    "\n"
   ]
  },
  {
   "cell_type": "markdown",
   "metadata": {},
   "source": [
    "#### Classes\n",
    "\n",
    "As already mentioned the built in data types (int,str,float,bool) in python are just classes.\n",
    "By creating a new class we basically create our \"own\" data type\n",
    "\n",
    "\n"
   ]
  },
  {
   "cell_type": "code",
   "execution_count": null,
   "metadata": {},
   "outputs": [],
   "source": [
    "class dog: #example of a class\n",
    "    def __init__(self,name,age,breed): #constructor method\n",
    "        self.name = name\n",
    "        self.age = age\n",
    "        self.breed = breed\n",
    "    def name(self): #class method\n",
    "        print(self.name)\n",
    "    def age(self): #class method\n",
    "        print(self.age)\n",
    "    def breed(self): #class method\n",
    "        print(self.breed)\n",
    "\n",
    "        \n",
    "        \n",
    "        \n",
    "class bird: #example of a class\n",
    "    def __init__(self): #constructor method\n",
    "        self.name = \"Bob\"\n",
    "        self.age = \"150\"\n",
    "        self.breed = \"Hawk\"\n",
    "    def name(self): #class method\n",
    "        print(self.name)\n",
    "    def age(self): #class method\n",
    "        print(self.age)\n",
    "    def breed(self): #class method\n",
    "        print(self.breed)    "
   ]
  },
  {
   "cell_type": "code",
   "execution_count": null,
   "metadata": {},
   "outputs": [],
   "source": [
    "x = dog(\"Max\",12,\"labrador\")\n",
    "y = \"Mislav\"\n",
    "k = bird()\n",
    "print(type(x))\n",
    "print(type(y))\n",
    "print(type(k))"
   ]
  },
  {
   "cell_type": "markdown",
   "metadata": {},
   "source": [
    "As you can see from the code above we created two classes ```dog``` and ```bird```. Functions that are defined inside of a class are called **methods**. To simplfy things we could say that **methods** are functions that are associated with an object. That means that for example method ``name`` can be called only on an object."
   ]
  },
  {
   "cell_type": "code",
   "execution_count": null,
   "metadata": {},
   "outputs": [],
   "source": [
    "x.name\n",
    "\n"
   ]
  },
  {
   "cell_type": "code",
   "execution_count": null,
   "metadata": {},
   "outputs": [],
   "source": [
    "x.age"
   ]
  },
  {
   "cell_type": "code",
   "execution_count": null,
   "metadata": {},
   "outputs": [],
   "source": [
    "y.name"
   ]
  },
  {
   "cell_type": "markdown",
   "metadata": {},
   "source": [
    "Programing with the usage of classes is called Object Orientated Programing (OOP). While OOP is widely used for creating programs in various programing languages, to use python for engineering purposes it is not necessary to have an extended knowladge about the OOP techniques. This last two topics **Objects** and **Classes** were mentioned just so you might get a better understanding of the following topics."
   ]
  },
  {
   "cell_type": "markdown",
   "metadata": {},
   "source": [
    "## 6. Libraries\n",
    "\n",
    "Libraries are the reason python is considered such a powerfull tool in scientific & engineering computing. What is a library?\n",
    "Well, simply put library or a module is a \"package\" of already  built classes and functions that serve a speficic purpose.\n",
    "This means that in python we don't need to make everything from scratch, but we can use a lot of different tools that already exists.\n",
    "\n",
    "\n",
    "![goprogram](https://memegenerator.net/img/instances/67791412.jpg)\n"
   ]
  },
  {
   "cell_type": "markdown",
   "metadata": {},
   "source": [
    "### NumPy Library\n",
    "\n",
    "NumPy(numerical Python) is a open source python library that is used as a universal standard for working with numerical data in python. It is used to perform a very large range of mathematical operations.\n",
    "[NumPy documentation](https://numpy.org/devdocs/user/absolute_beginners.html) offers a substantial amount of \"how to\" examples, tutorials and descriptions for every function and method that is a part of NumPy library. \n",
    "A very nice [Visual Guide](https://betterprogramming.pub/numpy-illustrated-the-visual-guide-to-numpy-3b1d4976de1d) contains great visual explanataions of the basic NumPy functionality."
   ]
  },
  {
   "cell_type": "markdown",
   "metadata": {},
   "source": [
    "#### How to use a library\n",
    "\n",
    "```python\n",
    "import numpy as np\n",
    "```\n",
    "To use any library we first need to import it into our code.\n",
    "This is done with a keyword ```import``` followed by the ```library name```.\n",
    "\n",
    "Since the ```Numpy``` library (it can also be called module) is used for mathematical operations with arrays, we will first see how to create and are in a few different ways.\n",
    "\n",
    "  1. ```np.array()```\n",
    "   - creates a simple array from a list\n",
    "![Array](https://miro.medium.com/max/700/1*oQRt7v_zDO7DNRLRUlCm5w.png)\n",
    "  \n",
    "  2. ```np.arange()```\n",
    "   - creates an array in a range with evenly spaced intervals\n",
    "  \n",
    "  3. ```np.linspace()```\n",
    "   - creates an array of values that are linearly spaced in a specified interval\n",
    "   \n",
    "\n",
    "![ArrangeandLinspace](https://miro.medium.com/max/2400/1*NNCWBPDCPfLtNYDc_ul5SA.png)\n"
   ]
  },
  {
   "cell_type": "code",
   "execution_count": null,
   "metadata": {},
   "outputs": [],
   "source": [
    "import numpy as np #we use np as a shourtcut to the word numpy (we could use any other shortcut but np is the standard)\n",
    "x = np.array([1, 2, 3, 4, 5, 6, 7, 8])\n",
    "\n",
    "print(x)"
   ]
  },
  {
   "cell_type": "code",
   "execution_count": null,
   "metadata": {},
   "outputs": [],
   "source": [
    "import numpy as np\n",
    "\n",
    "x = np.arange(1, 9, 0.1)\n",
    "print(x)"
   ]
  },
  {
   "cell_type": "code",
   "execution_count": null,
   "metadata": {},
   "outputs": [],
   "source": [
    "import numpy as np\n",
    "\n",
    "x = np.linspace(1, 9, num= 100)\n",
    "print(x)"
   ]
  },
  {
   "cell_type": "markdown",
   "metadata": {},
   "source": [
    "### MatPlotLib library\n",
    "\n",
    "[Matplotlib](https://matplotlib.org/) is a libray that enables creating various visualizations in Pyhon. Matplotlib offers an enormus amount of graph types. [MATPLOTLIB CHEAT SHEETS](https://github.com/matplotlib/cheatsheets#cheatsheets). Very nice [Matplotlib tutorial](https://www.youtube.com/watch?v=0P7QnIQDBJY) that includes the step-by-step explanations how to create different chart types with matplotlib."
   ]
  },
  {
   "cell_type": "markdown",
   "metadata": {},
   "source": [
    "***Importing the library***\n",
    "```python\n",
    "import matplotlib.pyplot as plt\n",
    "import numpy as np\n",
    "```\n",
    "***Creating a simple data set***\n",
    "```python\n",
    "Valuesx = np.array[(0.1,0.2,0.3,0.4,0.5,0.6,0.7,0.8,0.9,1.0)]\n",
    "```\n",
    "***Calculating the y values***\n",
    "```python\n",
    "Valuesy = Valuesx**3\n",
    "```\n",
    "***Plotting***\n",
    "```python\n",
    "plt.plot(Valuesx,Valuesy)\n",
    "```\n",
    "***Showing the plot***\n",
    "```python\n",
    "plt.show()\n",
    "```"
   ]
  },
  {
   "cell_type": "code",
   "execution_count": null,
   "metadata": {},
   "outputs": [],
   "source": []
  },
  {
   "cell_type": "code",
   "execution_count": null,
   "metadata": {},
   "outputs": [],
   "source": [
    "import matplotlib.pyplot as plt\n",
    "import numpy as np\n",
    "Valuesx = np.array([0.1,0.2,0.3,0.4,0.5,0.6,0.7,0.8,0.9,1.0])\n",
    "Valuesy = Valuesx**3\n",
    "plt.plot(Valuesx,Valuesy)\n",
    "plt.show()"
   ]
  },
  {
   "cell_type": "markdown",
   "metadata": {},
   "source": [
    "### Pandas library\n",
    "\n",
    "Pandas is a data analysis and manipulation tool. It has a similar structure as MS Excel. [Pandas Documentation](https://pandas.pydata.org/docs/index.html) has well made tutorials, starting with the most basic topics. [Excellent pandas tutorial](https://www.youtube.com/watch?v=vmEHCJofslg)"
   ]
  },
  {
   "cell_type": "code",
   "execution_count": null,
   "metadata": {},
   "outputs": [],
   "source": [
    "import pandas as pd\n",
    "data1 = pd.read_excel(\"Data.xlsx\", \"Population\")\n",
    "data2 = pd.read_excel(\"Data.xlsx\", \"GDP\")\n"
   ]
  },
  {
   "cell_type": "code",
   "execution_count": null,
   "metadata": {},
   "outputs": [],
   "source": []
  },
  {
   "cell_type": "code",
   "execution_count": null,
   "metadata": {},
   "outputs": [],
   "source": [
    "GDP_per_capita = data2[\"GDP\"]/data1[\"Population\"]"
   ]
  },
  {
   "cell_type": "code",
   "execution_count": null,
   "metadata": {},
   "outputs": [],
   "source": [
    "data1[\"GDP\"]= data2[\"GDP\"]"
   ]
  },
  {
   "cell_type": "code",
   "execution_count": null,
   "metadata": {},
   "outputs": [],
   "source": [
    "data1[\"GDP_per_capita\"] = GDP_per_capita"
   ]
  },
  {
   "cell_type": "code",
   "execution_count": null,
   "metadata": {},
   "outputs": [],
   "source": [
    "data1"
   ]
  },
  {
   "cell_type": "code",
   "execution_count": null,
   "metadata": {},
   "outputs": [],
   "source": [
    "data1.to_excel(\"DataNew.xlsx\")"
   ]
  },
  {
   "cell_type": "code",
   "execution_count": null,
   "metadata": {},
   "outputs": [],
   "source": [
    "data1.describe()"
   ]
  },
  {
   "cell_type": "markdown",
   "metadata": {},
   "source": [
    "## Some python examples"
   ]
  },
  {
   "cell_type": "markdown",
   "metadata": {},
   "source": [
    "### 1. Gas price converter and plotter ( from Eur/MWh to Eur/boe)"
   ]
  },
  {
   "cell_type": "code",
   "execution_count": 1,
   "metadata": {},
   "outputs": [
    {
     "data": {
      "image/png": "[encoded data removed]",
      "text/plain": [
       "<Figure size 720x360 with 1 Axes>"
      ]
     },
     "metadata": {
      "needs_background": "light"
     },
     "output_type": "display_data"
    }
   ],
   "source": [
    "import numpy as np\n",
    "import matplotlib.pyplot as plt\n",
    "import pandas as pd\n",
    "def gas_price(price,Cal_V = 10.7):\n",
    "    boe = (37.3253/6000)\n",
    "    gaspKwh = price/1000\n",
    "    MWh_to_m3 = gaspKwh* Cal_V\n",
    "    boePrice = MWh_to_m3/boe\n",
    "    return boePrice\n",
    "pastPrice = np.array([13.133, 16.8, 16.697, 23.904, 36.01, 50.232, 75.317])\n",
    "date = [\"NOV-20\", \"JAN-21\", \"MAR-21\", \"MAY-21\", \"JUL-21\", \"SEP-21\", \"TODAY\"]\n",
    "boePrice = gas_price(pastPrice, 10.7)\n",
    "plt.figure(figsize=(10,5))\n",
    "plt.grid(True)\n",
    "plt.title(\"Gas prices comparison\")\n",
    "plt.xlabel(\"Date\")\n",
    "plt.ylabel(\"Price [EUR]\")\n",
    "plt.plot(date,pastPrice, \"r.-\" , label =\"Gas price [Euro/MWh]\")\n",
    "plt.plot(date,boePrice, \"b.-\" , label = \"Gas price [Euro/boe]\" )\n",
    "plt.legend()\n",
    "\n",
    "plt.savefig(\"GAS_PRICE\", dpi = 300)\n",
    "plt.show()"
   ]
  },
  {
   "cell_type": "markdown",
   "metadata": {},
   "source": [
    "### 2. Force (Vector) addition"
   ]
  },
  {
   "cell_type": "code",
   "execution_count": 2,
   "metadata": {},
   "outputs": [
    {
     "name": "stderr",
     "output_type": "stream",
     "text": [
      "C:\\Users\\User\\AppData\\Local\\Temp/ipykernel_23712/1262552846.py:10: MatplotlibDeprecationWarning: Calling gca() with keyword arguments was deprecated in Matplotlib 3.4. Starting two minor releases later, gca() will take no keyword arguments. The gca() function should only be used to get the current axes, or if no axes exist, create new axes with default keyword arguments. To create a new axes with non-default arguments, use plt.axes() or plt.subplot().\n",
      "  d3 = fig.gca(projection = \"3d\")\n"
     ]
    },
    {
     "data": {
      "image/png": "[encoded data removed]",
      "text/plain": [
       "<Figure size 432x288 with 1 Axes>"
      ]
     },
     "metadata": {
      "needs_background": "light"
     },
     "output_type": "display_data"
    }
   ],
   "source": [
    "import numpy as np\n",
    "import matplotlib.pyplot as plt\n",
    "from mpl_toolkits import mplot3d\n",
    "\n",
    "forceA= np.array([1,0,0])\n",
    "forceB= np.array([0,1,0])\n",
    "\n",
    "fig = plt.figure()\n",
    "\n",
    "d3 = fig.gca(projection = \"3d\")\n",
    "d3.set_xlim(-1,1)\n",
    "d3.set_ylim(-1,1)\n",
    "d3.set_zlim(-1,1)\n",
    "x, y, z = np.array([0, 0, 0])  # defining the point of application.  Make it the origin\n",
    "\n",
    "u, v, w = forceA # breaking the force vector into individual components\n",
    "d3.quiver(x, y, z, u, v, w, color='r', label='forceA')\n",
    "\n",
    "u, v, w = forceB\n",
    "d3.quiver(x, y, z, u, v, w, color='b', label='forceB')\n",
    "rotation = np.matrix([[np.cos]])\n",
    "forceC = forceA + forceB\n",
    "\n",
    "u, v, w = forceC\n",
    "d3.quiver(x, y, z, u, v, w, color='g', label='forceC')\n",
    "plt.legend()\n",
    "plt.savefig(\"Vectors.jpeg\", dpi = 300)\n",
    "plt.show()"
   ]
  },
  {
   "cell_type": "markdown",
   "metadata": {},
   "source": [
    "### 3. 3D interactive plot"
   ]
  },
  {
   "cell_type": "code",
   "execution_count": 2,
   "metadata": {},
   "outputs": [
    {
     "data": {
      "application/vnd.jupyter.widget-view+json": {
       "model_id": "709fce6baef34f368e17c7d7d8b1d5e8",
       "version_major": 2,
       "version_minor": 0
      },
      "text/plain": [
       "interactive(children=(IntSlider(value=0, description='E', max=90, min=-90, step=5), IntSlider(value=0, descrip…"
      ]
     },
     "metadata": {},
     "output_type": "display_data"
    }
   ],
   "source": [
    "import numpy as np\n",
    "import matplotlib.pyplot as plt\n",
    "from mpl_toolkits.mplot3d import Axes3D\n",
    "from matplotlib import cm\n",
    "f = lambda x,y: np.sin(x)*np.cos(y)\n",
    "x = np.linspace(-2,2,50)\n",
    "y = np.linspace(-2,2,50)\n",
    "X, Y = np.meshgrid(x,y)\n",
    "F = f(X,Y)\n",
    "def plotter(E,A):\n",
    "    fig = plt.figure(figsize = [12, 8])\n",
    "    ax = fig.gca(projection = \"3d\")\n",
    "    ax.plot_surface(X,Y, F, cmap = cm.coolwarm)\n",
    "    ax.view_init(elev = E, azim = A)\n",
    "    plt.show()\n",
    "from ipywidgets import interactive\n",
    "iplot = interactive(plotter,\n",
    "                   E = (-90,90,5),A = (-90,90,5))\n",
    "iplot"
   ]
  },
  {
   "cell_type": "markdown",
   "metadata": {},
   "source": [
    "### 4. Interactive Sin function"
   ]
  },
  {
   "cell_type": "code",
   "execution_count": 4,
   "metadata": {},
   "outputs": [
    {
     "data": {
      "application/vnd.jupyter.widget-view+json": {
       "model_id": "0d0acf41bd5b4374a0386cde8463fddf",
       "version_major": 2,
       "version_minor": 0
      },
      "text/plain": [
       "interactive(children=(IntSlider(value=45, description='power', min=-10), IntSlider(value=0, description='ampli…"
      ]
     },
     "metadata": {},
     "output_type": "display_data"
    }
   ],
   "source": [
    "import numpy as np\n",
    "import matplotlib.pyplot as plt\n",
    "def sinx(power,amplitude,neg, freq):\n",
    "    x = np.arange(-2*np.pi, 2*np.pi, 0.01 )\n",
    "    y1 = neg*amplitude*np.sin((1/freq)*x)**power\n",
    "#y2 = np.cos(x)\n",
    "#y3 = np.exp(x)\n",
    "#y4 = np.exp2(x)\n",
    "    \n",
    "#plt.plot(x,y2)\n",
    "    fig =  plt.figure(figsize = [12, 8])\n",
    "    ax = fig.gca()\n",
    "    ax.plot(x,y1)\n",
    "    ax.grid(True)\n",
    "   \n",
    "    #ax.set_aspect(1.0)\n",
    "    ax.axhline(0, color='black', lw=2)\n",
    "    ax.axvline(0, color='black', lw=2)\n",
    "    plt.show()\n",
    "from ipywidgets import interactive\n",
    "superd = interactive(sinx,\n",
    "                   power = (-10,100,1), amplitude = (-10,10,1), neg = (-1,1,1), freq = (0.1,2,0.1))\n",
    "superd"
   ]
  },
  {
   "cell_type": "markdown",
   "metadata": {},
   "source": [
    "### 5. Taylor series"
   ]
  },
  {
   "cell_type": "code",
   "execution_count": 1,
   "metadata": {},
   "outputs": [
    {
     "data": {
      "application/vnd.jupyter.widget-view+json": {
       "model_id": "b4ff1bad336342d4a301dca6eca38154",
       "version_major": 2,
       "version_minor": 0
      },
      "text/plain": [
       "interactive(children=(IntSlider(value=10, description='N', max=20, min=1), Output()), _dom_classes=('widget-in…"
      ]
     },
     "metadata": {},
     "output_type": "display_data"
    }
   ],
   "source": [
    "import numpy as np\n",
    "import matplotlib.pyplot as plt\n",
    "\n",
    "x = np.linspace(-4*np.pi,4*np.pi, 500)\n",
    "y = np.sin(x)\n",
    "\n",
    "def expan(n):\n",
    "    tayl = 0\n",
    "    n = n\n",
    "    for i in range(0,n):\n",
    "        tayl = tayl + (((-1)**i)/np.math.factorial((2*i+1)))*x**(2*i+1)\n",
    "        \n",
    "    return tayl\n",
    "def TaylorApproximation(N):\n",
    "    fig =  plt.figure(figsize = [18, 8])\n",
    "    ax = fig.gca()\n",
    "    ax.plot(x,y)\n",
    "    ax.grid(True)\n",
    "    plt.xlim(-16,16)\n",
    "    plt.ylim(-1.2,1.2)\n",
    "    ax.plot(x,expan(N))\n",
    "    #ax.set_aspect(1.0)\n",
    "    ax.axhline(0, color='black', lw=2)\n",
    "    ax.axvline(0, color='black', lw=2)\n",
    "    plt.show()\n",
    "from ipywidgets import interactive\n",
    "superdsin = interactive(TaylorApproximation, N = (1,20,1))\n",
    "superdsin"
   ]
  },
  {
   "cell_type": "markdown",
   "metadata": {},
   "source": [
    "### 6. Corey relative permeability (O/W)"
   ]
  },
  {
   "cell_type": "code",
   "execution_count": 5,
   "metadata": {},
   "outputs": [
    {
     "data": {
      "application/vnd.jupyter.widget-view+json": {
       "model_id": "3907d7a9d4f547d3aa34c0de910fd8c8",
       "version_major": 2,
       "version_minor": 0
      },
      "text/plain": [
       "interactive(children=(FloatSlider(value=1.0, description='Corey_W', max=10.0, min=0.1), FloatSlider(value=1.0,…"
      ]
     },
     "metadata": {},
     "output_type": "display_data"
    }
   ],
   "source": [
    "import ipywidgets as widgets\n",
    "import matplotlib.pyplot as plt\n",
    "import numpy as np\n",
    "\n",
    "#Sw = #Water saturation\n",
    "#Swc = #Connate water saturation\n",
    "#Sorw = #Residual oil saturation\n",
    "#nO = #Corey exponent for oil\n",
    "#nW = #Corey exponent for water\n",
    "#KrW_orw = #Water relative permeability at the residual oil saturation;default = 1\n",
    "#KrO_wc = #Oil relative permeability at the connate water saturation; default = 1\n",
    "\n",
    "class Rel_Perm:\n",
    "    def __init__(self, Sw, Swc , Sorw, nO = 1, nW = 1 , KrW_orw = 1 , KrO_wc = 1, SwLab = 0, KrOLab = 0, KrWLab= 0):\n",
    "        self.Sw = Sw #Water saturation\n",
    "        self.Swc = Swc#Connate water saturation\n",
    "        self.Sorw = Sorw#Residual oil saturation\n",
    "        self.nO = nO#Corey exponent for oil\n",
    "        self.nW = nW#Corey exponent for water\n",
    "        self.KrW_orw = KrW_orw#Water relative permeability at the residual oil saturation;default = 1\n",
    "        self.KrO_wc = KrO_wc#Oil relative permeability at the connate water saturation; default = 1\n",
    "        ##########################CALCULATION OF COREY RELATIVE PERMEABILITY##################\n",
    "    def KrO(self, nO, KrO_wc, Sorw, Swc):\n",
    "        self.KrO_wc = KrO_wc\n",
    "        self.Sorw = Sorw\n",
    "        self.Swc = Swc\n",
    "        self.nO = nO\n",
    "        KrO = self.KrO_wc * ((1 - self.Sw - self.Sorw)/(1 - self.Swc - self.Sorw))**self.nO\n",
    "        return KrO\n",
    "    def KrW(self, nW, KrW_orw, Sorw, Swc):\n",
    "        self.KrW_orw = KrW_orw\n",
    "        self.Sorw = Sorw\n",
    "        self.Swc = Swc\n",
    "        self.nW = nW\n",
    "        KrW = self.KrW_orw * ((self.Sw - self.Swc)/(1 - self.Swc - self.Sorw ))**self.nW\n",
    "        return KrW\n",
    "    def KrLaboratory():\n",
    "        pass\n",
    "    def RelPermCoryMatch(self):\n",
    "        def RelPermPlot( Corey_W=1, Corey_O=1, KrO_wc = 1, KrW_orw = 1, Sorw = 0.35, Swc = 0.25 , Water = True, Oil = True):\n",
    "            plt.figure(figsize=(8,8))\n",
    "            plt.grid(True)\n",
    "\n",
    "            plt.xlim(0,1)\n",
    "            plt.ylim(0,1)\n",
    "            plt.xlabel(\"Water Saturation Sw [%]\")\n",
    "            plt.ylabel(\"Oil/Water realtive permeabilities [KrO&KrW]\")    \n",
    "\n",
    "            if Water:\n",
    "                plt.plot(x1.Sw,x1.KrW(Corey_W, KrW_orw,Sorw, Swc), \"b--\", lw = 2, label = \"RelPermWater\")\n",
    "\n",
    "            if Oil:\n",
    "                plt.plot(x1.Sw,x1.KrO(Corey_O,KrO_wc, Sorw, Swc), \"g--\", lw = 2, label = \"RelPermOil\")\n",
    "            plt.plot([0.25,0.30, 0.40,0.50,0.60,0.65],[0.85,0.754,0.557,0.352,0.131,0.0], \"r\", label= \"LabKrO\")\n",
    "            plt.plot([0.25,0.30, 0.40,0.50,0.60,0.65],[0.0,0.018,0.092,0.198,0.327,0.400], \"c\",  label= \"LabKrW\")\n",
    "            plt.legend()\n",
    "        widgets.interact(RelPermPlot, Corey_W=(0.1,10),  Corey_O=(0.1,10),KrW_orw =(0.05,1,0.01), KrO_wc = (0.05,1,0.01),Sorw = (0.05,1,0.01),Swc = (0.05,1,0.01),Water = False, \n",
    "                     Oil = False\n",
    "                    )\n",
    "\n",
    "\n",
    "sw = np.linspace(0.25,0.65,1000)\n",
    "sw1 = np.array([0.25,0.26,0.27,0.35,0.5,0.67])\n",
    "x1 = Rel_Perm(sw,0.25,0.35)\n",
    "x1.RelPermCoryMatch()\n"
   ]
  },
  {
   "cell_type": "markdown",
   "metadata": {},
   "source": [
    "## Usefull links\n",
    "\n",
    "[Basic Python tutorial](https://www.youtube.com/watch?v=OFrLs22MDAw&list=PLzMcBGfZo4-mFu00qxl0a67RhjjZj3jXm)\n",
    "\n",
    "[Classes & Objects in python](https://www.youtube.com/watch?v=v_Jp11xqCzg&list=PLzMcBGfZo4-l1MqB1zoYfqzlj_HH-ZzXt)\n",
    "\n"
   ]
  }
 ],
 "metadata": {
  "kernelspec": {
   "display_name": "Python 3 (ipykernel)",
   "language": "python",
   "name": "python3"
  },
  "language_info": {
   "codemirror_mode": {
    "name": "ipython",
    "version": 3
   },
   "file_extension": ".py",
   "mimetype": "text/x-python",
   "name": "python",
   "nbconvert_exporter": "python",
   "pygments_lexer": "ipython3",
   "version": "3.9.7"
  }
 },
 "nbformat": 4,
 "nbformat_minor": 2
}
